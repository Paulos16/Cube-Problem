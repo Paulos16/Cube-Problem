{
 "cells": [
  {
   "cell_type": "code",
   "execution_count": 17,
   "metadata": {},
   "outputs": [],
   "source": [
    "import numpy as np"
   ]
  },
  {
   "cell_type": "code",
   "execution_count": 18,
   "metadata": {},
   "outputs": [],
   "source": [
    "data = np.random.randint(2, size = 1000)"
   ]
  },
  {
   "cell_type": "code",
   "execution_count": 19,
   "metadata": {},
   "outputs": [
    {
     "name": "stdout",
     "output_type": "stream",
     "text": [
      "Generating 1000 rows of data...\n"
     ]
    }
   ],
   "source": [
    "print(\"Generating 1000 rows of data...\")"
   ]
  },
  {
   "cell_type": "code",
   "execution_count": 33,
   "metadata": {},
   "outputs": [],
   "source": [
    "with open(\"data\", \"wt\") as datafile:\n",
    "    \n",
    "    for i in data:\n",
    "        if i == 1:\n",
    "            \n",
    "            size = 0\n",
    "            \n",
    "            for j in range(3):\n",
    "                \n",
    "                while size <= 0:\n",
    "                    size = np.abs(round((np.random.randn() + ((np.random.rand() * .1) - .05)), 2))\n",
    "                \n",
    "                datafile.write(str(size) + \" \")\n",
    "\n",
    "            datafile.write(\"1\\n\")\n",
    "            \n",
    "        else:\n",
    "            \n",
    "            length = 0\n",
    "            width = 0\n",
    "            height = 0\n",
    "            \n",
    "            while length == 0:\n",
    "                length = round(np.abs(np.random.randn()), 2)\n",
    "                \n",
    "            while width == 0:\n",
    "                width = round(np.abs(np.random.randn()), 2)\n",
    "                \n",
    "            while height == 0:\n",
    "                height = round(np.abs(np.random.randn()), 2)\n",
    "                \n",
    "            datafile.write(str(length) + \" \")\n",
    "            datafile.write(str(width) + \" \")\n",
    "            datafile.write(str(height) + \" \")\n",
    "                \n",
    "            l_w = np.abs(1 - (length / width))\n",
    "            l_h = np.abs(1 - (length / height))\n",
    "            w_h = np.abs(1 - (width / height))\n",
    "            \n",
    "            if l_w < .1 and l_h < .1 and w_h < .1:\n",
    "                datafile.write(\"1\\n\")\n",
    "            else:\n",
    "                datafile.write(\"0\\n\")"
   ]
  },
  {
   "cell_type": "code",
   "execution_count": 21,
   "metadata": {},
   "outputs": [
    {
     "name": "stdout",
     "output_type": "stream",
     "text": [
      "Data is available in file \"data\"\n"
     ]
    }
   ],
   "source": [
    "print(\"Data is available in file \\\"data\\\"\")"
   ]
  },
  {
   "cell_type": "code",
   "execution_count": null,
   "metadata": {},
   "outputs": [],
   "source": []
  }
 ],
 "metadata": {
  "kernelspec": {
   "display_name": "Python 3",
   "language": "python",
   "name": "python3"
  },
  "language_info": {
   "codemirror_mode": {
    "name": "ipython",
    "version": 3
   },
   "file_extension": ".py",
   "mimetype": "text/x-python",
   "name": "python",
   "nbconvert_exporter": "python",
   "pygments_lexer": "ipython3",
   "version": "3.6.4"
  }
 },
 "nbformat": 4,
 "nbformat_minor": 2
}
